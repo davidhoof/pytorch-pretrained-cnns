{
 "cells": [
  {
   "cell_type": "code",
   "execution_count": 65,
   "id": "3d4fa5e1",
   "metadata": {
    "pycharm": {
     "is_executing": true
    }
   },
   "outputs": [],
   "source": [
    "from torchvision.datasets import CIFAR10, CIFAR100, MNIST, KMNIST, FashionMNIST\n",
    "from torch.utils.data import DataLoader, SubsetRandomSampler\n",
    "from data import GroceryStore,HistAerial,FractalDB60, TinyImageNet\n",
    "import numpy as np\n",
    "from torchvision import transforms\n",
    "import matplotlib.pyplot as plt\n",
    "import torch"
   ]
  },
  {
   "cell_type": "code",
   "execution_count": 40,
   "id": "a005a558",
   "metadata": {},
   "outputs": [
    {
     "data": {
      "text/plain": [
       "(torch.Size([60000, 28, 28]), tensor(0.1918), tensor(0.3483))"
      ]
     },
     "execution_count": 40,
     "metadata": {},
     "output_type": "execute_result"
    }
   ],
   "source": [
    "d = KMNIST(root=\"/data/datasets/kmnist\", train=True).data\n",
    "d = d / 255.\n",
    "d.shape, d.mean(), d.std()"
   ]
  },
  {
   "cell_type": "code",
   "execution_count": 41,
   "id": "c0acd184",
   "metadata": {},
   "outputs": [
    {
     "data": {
      "text/plain": [
       "(torch.Size([60000, 28, 28]), tensor(0.1307), tensor(0.3081))"
      ]
     },
     "execution_count": 41,
     "metadata": {},
     "output_type": "execute_result"
    }
   ],
   "source": [
    "d = MNIST(root=\"/data/datasets/mnist\", train=True).data\n",
    "d = d / 255.\n",
    "d.shape, d.mean(), d.std()"
   ]
  },
  {
   "cell_type": "code",
   "execution_count": 79,
   "id": "e859697c",
   "metadata": {},
   "outputs": [
    {
     "data": {
      "text/plain": [
       "(torch.Size([60000, 28, 28]), tensor(0.2860), tensor(0.3530))"
      ]
     },
     "execution_count": 79,
     "metadata": {},
     "output_type": "execute_result"
    }
   ],
   "source": [
    "d = FashionMNIST(root=\"/data/datasets/fashionmnist\", train=True).data\n",
    "d = d / 255.\n",
    "d.shape, d.mean(), d.std()"
   ]
  },
  {
   "cell_type": "code",
   "execution_count": 77,
   "id": "9e5a4408",
   "metadata": {},
   "outputs": [
    {
     "data": {
      "text/plain": [
       "((51200000, 3),\n",
       " array([0.49139968, 0.48215841, 0.44653091]),\n",
       " array([0.24703223, 0.24348513, 0.26158784]))"
      ]
     },
     "execution_count": 77,
     "metadata": {},
     "output_type": "execute_result"
    }
   ],
   "source": [
    "d = CIFAR10(root=\"/data/datasets/cifar10\", train=True).data\n",
    "d = d.reshape(-1, 3) / 255.\n",
    "d.shape, d.mean(axis=0), d.std(axis=0)"
   ]
  },
  {
   "cell_type": "code",
   "execution_count": 78,
   "id": "94f6fb76",
   "metadata": {},
   "outputs": [
    {
     "data": {
      "text/plain": [
       "((51200000, 3),\n",
       " array([0.50707516, 0.48654887, 0.44091784]),\n",
       " array([0.26733429, 0.25643846, 0.27615047]))"
      ]
     },
     "execution_count": 78,
     "metadata": {},
     "output_type": "execute_result"
    }
   ],
   "source": [
    "d = CIFAR100(root=\"/data/datasets/cifar100\", train=True).data\n",
    "d = d.reshape(-1, 3) / 255.\n",
    "d.shape, d.mean(axis=0), d.std(axis=0)"
   ]
  },
  {
   "cell_type": "code",
   "execution_count": 49,
   "id": "93e45136",
   "metadata": {},
   "outputs": [],
   "source": [
    "def get_mean_and_std(dataloader):\n",
    "    channels_sum, channels_squared_sum, num_batches = 0, 0, 0\n",
    "    for data, _ in dataloader:\n",
    "        # Mean over batch, height and width, but not over the channels\n",
    "        channels_sum += torch.mean(data, dim=[0,2,3])\n",
    "        channels_squared_sum += torch.mean(data**2, dim=[0,2,3])\n",
    "        num_batches += 1\n",
    "    \n",
    "    mean = channels_sum / num_batches\n",
    "\n",
    "    # std = sqrt(E[X^2] - (E[X])^2)\n",
    "    std = (channels_squared_sum / num_batches - mean ** 2) ** 0.5\n",
    "\n",
    "    return mean, std"
   ]
  },
  {
   "cell_type": "code",
   "execution_count": 58,
   "id": "e2341d89",
   "metadata": {},
   "outputs": [
    {
     "name": "stdout",
     "output_type": "stream",
     "text": [
      "Files already downloaded and verified\n"
     ]
    },
    {
     "data": {
      "text/plain": [
       "(tensor([0.4915, 0.4822, 0.4466]), tensor([0.2470, 0.2435, 0.2616]))"
      ]
     },
     "execution_count": 58,
     "metadata": {},
     "output_type": "execute_result"
    }
   ],
   "source": [
    "train_dataset = CIFAR10(root='C:/DataSets/cifar10', train=True, \n",
    "                                 transform=transforms.Compose(\n",
    "            [\n",
    "                transforms.Resize(32),                \n",
    "                transforms.ToTensor()\n",
    "            ]),download=True)\n",
    "train_dataloader = DataLoader(dataset=train_dataset, batch_size=64)\n",
    "\n",
    "get_mean_and_std(train_dataloader)"
   ]
  },
  {
   "cell_type": "code",
   "execution_count": 59,
   "id": "e273bf01",
   "metadata": {
    "pycharm": {
     "name": "#%%\n"
    }
   },
   "outputs": [
    {
     "data": {
      "text/plain": [
       "(tensor([0.5525, 0.4104, 0.2445]), tensor([0.2205, 0.1999, 0.1837]))"
      ]
     },
     "execution_count": 59,
     "metadata": {},
     "output_type": "execute_result"
    }
   ],
   "source": [
    "train_dataset = GroceryStore(root=\"C:/DataSets/grocerystore\",split=\"train\", \n",
    "                                 transform=transforms.Compose(\n",
    "            [\n",
    "                transforms.Resize(48),\n",
    "                transforms.CenterCrop(32),\n",
    "                transforms.ToTensor()\n",
    "            ]),download=True)\n",
    "train_dataloader = DataLoader(dataset=train_dataset, batch_size=64)\n",
    "\n",
    "get_mean_and_std(train_dataloader)"
   ]
  },
  {
   "cell_type": "code",
   "execution_count": 60,
   "id": "08c0cac5",
   "metadata": {},
   "outputs": [
    {
     "data": {
      "text/plain": [
       "(tensor([0.4621, 0.4621, 0.4621]), tensor([0.2766, 0.2766, 0.2766]))"
      ]
     },
     "execution_count": 60,
     "metadata": {},
     "output_type": "execute_result"
    }
   ],
   "source": [
    "train_dataset = HistAerial(root=\"C:/DataSets/histaerial\",dataset_type=\"25x25\", \n",
    "                                 transform=transforms.Compose(\n",
    "            [                \n",
    "                transforms.ToTensor()\n",
    "            ]),download=True)\n",
    "train_dataloader = DataLoader(dataset=train_dataset, batch_size=64)\n",
    "\n",
    "get_mean_and_std(train_dataloader)"
   ]
  },
  {
   "cell_type": "code",
   "execution_count": 61,
   "id": "6b142b1a",
   "metadata": {},
   "outputs": [
    {
     "data": {
      "text/plain": [
       "(tensor([0.4625, 0.4625, 0.4625]), tensor([0.2764, 0.2764, 0.2764]))"
      ]
     },
     "execution_count": 61,
     "metadata": {},
     "output_type": "execute_result"
    }
   ],
   "source": [
    "train_dataset = HistAerial(root=\"C:/DataSets/histaerial\",dataset_type=\"50x50\", \n",
    "                                 transform=transforms.Compose(\n",
    "            [                \n",
    "                transforms.ToTensor()\n",
    "            ]),download=True)\n",
    "train_dataloader = DataLoader(dataset=train_dataset, batch_size=64)\n",
    "\n",
    "get_mean_and_std(train_dataloader)"
   ]
  },
  {
   "cell_type": "code",
   "execution_count": 62,
   "id": "345472c8",
   "metadata": {},
   "outputs": [
    {
     "data": {
      "text/plain": [
       "(tensor([0.4616, 0.4616, 0.4616]), tensor([0.2759, 0.2759, 0.2759]))"
      ]
     },
     "execution_count": 62,
     "metadata": {},
     "output_type": "execute_result"
    }
   ],
   "source": [
    "train_dataset = HistAerial(root=\"C:/DataSets/histaerial\",dataset_type=\"100x100\", \n",
    "                                 transform=transforms.Compose(\n",
    "            [                \n",
    "                transforms.ToTensor()\n",
    "            ]),download=True)\n",
    "train_dataloader = DataLoader(dataset=train_dataset, batch_size=64)\n",
    "\n",
    "get_mean_and_std(train_dataloader)"
   ]
  },
  {
   "cell_type": "code",
   "execution_count": 64,
   "id": "0e6b9c41",
   "metadata": {},
   "outputs": [
    {
     "data": {
      "text/plain": [
       "(tensor([0.0622, 0.0622, 0.0622]), tensor([0.1646, 0.1646, 0.1646]))"
      ]
     },
     "execution_count": 64,
     "metadata": {},
     "output_type": "execute_result"
    }
   ],
   "source": [
    "train_dataset = FractalDB60(root=\"C:/DataSets/test/fractaldb60\", \n",
    "                                 transform=transforms.Compose(\n",
    "            [                \n",
    "                transforms.ToTensor()\n",
    "            ]),download=True)\n",
    "train_dataloader = DataLoader(dataset=train_dataset, batch_size=64)\n",
    "\n",
    "get_mean_and_std(train_dataloader)"
   ]
  },
  {
   "cell_type": "code",
   "execution_count": 67,
   "id": "5b91a6cd",
   "metadata": {},
   "outputs": [
    {
     "data": {
      "text/plain": [
       "(tensor([0.4802, 0.4481, 0.3975]), tensor([0.2764, 0.2689, 0.2816]))"
      ]
     },
     "execution_count": 67,
     "metadata": {},
     "output_type": "execute_result"
    }
   ],
   "source": [
    "train_dataset = TinyImageNet(root=\"C:/DataSets/test/tinyimagenet\", \n",
    "                                 transform=transforms.Compose(\n",
    "            [                \n",
    "                transforms.ToTensor()\n",
    "            ]),download=True)\n",
    "train_dataloader = DataLoader(dataset=train_dataset, batch_size=64)\n",
    "\n",
    "get_mean_and_std(train_dataloader)"
   ]
  },
  {
   "cell_type": "code",
   "execution_count": null,
   "id": "c7bc6faf",
   "metadata": {},
   "outputs": [],
   "source": []
  }
 ],
 "metadata": {
  "kernelspec": {
   "display_name": "Python 3 (ipykernel)",
   "language": "python",
   "name": "python3"
  },
  "language_info": {
   "codemirror_mode": {
    "name": "ipython",
    "version": 3
   },
   "file_extension": ".py",
   "mimetype": "text/x-python",
   "name": "python",
   "nbconvert_exporter": "python",
   "pygments_lexer": "ipython3",
   "version": "3.9.2"
  }
 },
 "nbformat": 4,
 "nbformat_minor": 5
}