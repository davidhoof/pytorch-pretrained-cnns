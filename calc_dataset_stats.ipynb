{
 "cells": [
  {
   "cell_type": "code",
   "execution_count": 1,
   "id": "3d4fa5e1",
   "metadata": {
    "pycharm": {
     "name": "#%%\n"
    }
   },
   "outputs": [],
   "source": [
    "from torchvision.datasets import CIFAR10, CIFAR100, MNIST, KMNIST, FashionMNIST,SVHN\n",
    "from torch.utils.data import DataLoader, SubsetRandomSampler\n",
    "from data import GroceryStore,HistAerial,FractalDB60, TinyImageNet,CUB2002011\n",
    "import numpy as np\n",
    "from torchvision import transforms\n",
    "import matplotlib.pyplot as plt\n",
    "import torch\n",
    "import scipy"
   ]
  },
  {
   "cell_type": "code",
   "execution_count": 2,
   "id": "a005a558",
   "metadata": {
    "pycharm": {
     "name": "#%%\n"
    }
   },
   "outputs": [
    {
     "ename": "RuntimeError",
     "evalue": "Dataset not found. You can use download=True to download it",
     "output_type": "error",
     "traceback": [
      "\u001B[1;31m---------------------------------------------------------------------------\u001B[0m",
      "\u001B[1;31mRuntimeError\u001B[0m                              Traceback (most recent call last)",
      "Input \u001B[1;32mIn [2]\u001B[0m, in \u001B[0;36m<cell line: 1>\u001B[1;34m()\u001B[0m\n\u001B[1;32m----> 1\u001B[0m d \u001B[38;5;241m=\u001B[39m \u001B[43mKMNIST\u001B[49m\u001B[43m(\u001B[49m\u001B[43mroot\u001B[49m\u001B[38;5;241;43m=\u001B[39;49m\u001B[38;5;124;43m\"\u001B[39;49m\u001B[38;5;124;43m/data/datasets/kmnist\u001B[39;49m\u001B[38;5;124;43m\"\u001B[39;49m\u001B[43m,\u001B[49m\u001B[43m \u001B[49m\u001B[43mtrain\u001B[49m\u001B[38;5;241;43m=\u001B[39;49m\u001B[38;5;28;43;01mTrue\u001B[39;49;00m\u001B[43m)\u001B[49m\u001B[38;5;241m.\u001B[39mdata\n\u001B[0;32m      2\u001B[0m d \u001B[38;5;241m=\u001B[39m d \u001B[38;5;241m/\u001B[39m \u001B[38;5;241m255.\u001B[39m\n\u001B[0;32m      3\u001B[0m d\u001B[38;5;241m.\u001B[39mshape, d\u001B[38;5;241m.\u001B[39mmean(), d\u001B[38;5;241m.\u001B[39mstd()\n",
      "File \u001B[1;32m~\\Source\\Repos\\pytorch-pretrained-cnns\\venv\\lib\\site-packages\\torchvision\\datasets\\mnist.py:102\u001B[0m, in \u001B[0;36mMNIST.__init__\u001B[1;34m(self, root, train, transform, target_transform, download)\u001B[0m\n\u001B[0;32m     99\u001B[0m     \u001B[38;5;28mself\u001B[39m\u001B[38;5;241m.\u001B[39mdownload()\n\u001B[0;32m    101\u001B[0m \u001B[38;5;28;01mif\u001B[39;00m \u001B[38;5;129;01mnot\u001B[39;00m \u001B[38;5;28mself\u001B[39m\u001B[38;5;241m.\u001B[39m_check_exists():\n\u001B[1;32m--> 102\u001B[0m     \u001B[38;5;28;01mraise\u001B[39;00m \u001B[38;5;167;01mRuntimeError\u001B[39;00m(\u001B[38;5;124m\"\u001B[39m\u001B[38;5;124mDataset not found. You can use download=True to download it\u001B[39m\u001B[38;5;124m\"\u001B[39m)\n\u001B[0;32m    104\u001B[0m \u001B[38;5;28mself\u001B[39m\u001B[38;5;241m.\u001B[39mdata, \u001B[38;5;28mself\u001B[39m\u001B[38;5;241m.\u001B[39mtargets \u001B[38;5;241m=\u001B[39m \u001B[38;5;28mself\u001B[39m\u001B[38;5;241m.\u001B[39m_load_data()\n",
      "\u001B[1;31mRuntimeError\u001B[0m: Dataset not found. You can use download=True to download it"
     ]
    }
   ],
   "source": [
    "d = KMNIST(root=\"/data/datasets/kmnist\", train=True).data\n",
    "d = d / 255.\n",
    "d.shape, d.mean(), d.std()"
   ]
  },
  {
   "cell_type": "code",
   "execution_count": null,
   "id": "c0acd184",
   "metadata": {
    "pycharm": {
     "name": "#%%\n"
    }
   },
   "outputs": [],
   "source": [
    "d = MNIST(root=\"/data/datasets/mnist\", train=True).data\n",
    "d = d / 255.\n",
    "d.shape, d.mean(), d.std()"
   ]
  },
  {
   "cell_type": "code",
   "execution_count": null,
   "id": "e859697c",
   "metadata": {
    "pycharm": {
     "name": "#%%\n"
    }
   },
   "outputs": [],
   "source": [
    "d = FashionMNIST(root=\"/data/datasets/fashionmnist\", train=True).data\n",
    "d = d / 255.\n",
    "d.shape, d.mean(), d.std()"
   ]
  },
  {
   "cell_type": "code",
   "execution_count": null,
   "id": "9e5a4408",
   "metadata": {
    "pycharm": {
     "name": "#%%\n"
    }
   },
   "outputs": [],
   "source": [
    "d = CIFAR10(root=\"/data/datasets/cifar10\", train=True).data\n",
    "d = d.reshape(-1, 3) / 255.\n",
    "d.shape, d.mean(axis=0), d.std(axis=0)"
   ]
  },
  {
   "cell_type": "code",
   "execution_count": null,
   "id": "94f6fb76",
   "metadata": {
    "pycharm": {
     "name": "#%%\n"
    }
   },
   "outputs": [],
   "source": [
    "d = CIFAR100(root=\"/data/datasets/cifar100\", train=True).data\n",
    "d = d.reshape(-1, 3) / 255.\n",
    "d.shape, d.mean(axis=0), d.std(axis=0)"
   ]
  },
  {
   "cell_type": "code",
   "execution_count": 4,
   "id": "dbcec9d0",
   "metadata": {
    "pycharm": {
     "name": "#%%\n"
    }
   },
   "outputs": [],
   "source": [
    "def get_mean_and_std(dataloader):\n",
    "    channels_sum, channels_squared_sum, num_batches = 0, 0, 0\n",
    "    for data, _ in dataloader:\n",
    "        # Mean over batch, height and width, but not over the channels\n",
    "        channels_sum += torch.mean(data, dim=[0,2,3])\n",
    "        channels_squared_sum += torch.mean(data**2, dim=[0,2,3])\n",
    "        num_batches += 1\n",
    "    \n",
    "    mean = channels_sum / num_batches\n",
    "\n",
    "    # std = sqrt(E[X^2] - (E[X])^2)\n",
    "    std = (channels_squared_sum / num_batches - mean ** 2) ** 0.5\n",
    "\n",
    "    return mean, std"
   ]
  },
  {
   "cell_type": "code",
   "execution_count": null,
   "id": "6a5855d0",
   "metadata": {
    "pycharm": {
     "name": "#%%\n"
    }
   },
   "outputs": [],
   "source": [
    "train_dataset = CIFAR10(root='C:/DataSets/cifar10', train=True, \n",
    "                                 transform=transforms.Compose(\n",
    "            [\n",
    "                transforms.Resize(32),                \n",
    "                transforms.ToTensor()\n",
    "            ]),download=True)\n",
    "train_dataloader = DataLoader(dataset=train_dataset, batch_size=64)\n",
    "\n",
    "get_mean_and_std(train_dataloader)"
   ]
  },
  {
   "cell_type": "code",
   "execution_count": null,
   "id": "e273bf01",
   "metadata": {
    "pycharm": {
     "name": "#%%\n"
    }
   },
   "outputs": [],
   "source": [
    "train_dataset = GroceryStore(root=\"C:/DataSets/grocerystore\",split=\"train\", \n",
    "                                 transform=transforms.Compose(\n",
    "            [\n",
    "                transforms.Resize(48),\n",
    "                transforms.CenterCrop(32),\n",
    "                transforms.ToTensor()\n",
    "            ]),download=True)\n",
    "train_dataloader = DataLoader(dataset=train_dataset, batch_size=64)\n",
    "\n",
    "get_mean_and_std(train_dataloader)"
   ]
  },
  {
   "cell_type": "code",
   "execution_count": null,
   "id": "e113531a",
   "metadata": {
    "pycharm": {
     "name": "#%%\n"
    }
   },
   "outputs": [],
   "source": [
    "train_dataset = HistAerial(root=\"C:/DataSets/histaerial\",dataset_type=\"25x25\", \n",
    "                                 transform=transforms.Compose(\n",
    "            [                \n",
    "                transforms.ToTensor()\n",
    "            ]),download=True)\n",
    "train_dataloader = DataLoader(dataset=train_dataset, batch_size=64)\n",
    "\n",
    "get_mean_and_std(train_dataloader)"
   ]
  },
  {
   "cell_type": "code",
   "execution_count": null,
   "id": "5b1d481e",
   "metadata": {
    "pycharm": {
     "name": "#%%\n"
    }
   },
   "outputs": [],
   "source": [
    "train_dataset = HistAerial(root=\"C:/DataSets/histaerial\",dataset_type=\"50x50\", \n",
    "                                 transform=transforms.Compose(\n",
    "            [                \n",
    "                transforms.ToTensor()\n",
    "            ]),download=True)\n",
    "train_dataloader = DataLoader(dataset=train_dataset, batch_size=64)\n",
    "\n",
    "get_mean_and_std(train_dataloader)"
   ]
  },
  {
   "cell_type": "code",
   "execution_count": null,
   "id": "4d9ac8c8",
   "metadata": {
    "pycharm": {
     "name": "#%%\n"
    }
   },
   "outputs": [],
   "source": [
    "train_dataset = HistAerial(root=\"C:/DataSets/histaerial\",dataset_type=\"100x100\", \n",
    "                                 transform=transforms.Compose(\n",
    "            [                \n",
    "                transforms.ToTensor()\n",
    "            ]),download=True)\n",
    "train_dataloader = DataLoader(dataset=train_dataset, batch_size=64)\n",
    "\n",
    "get_mean_and_std(train_dataloader)"
   ]
  },
  {
   "cell_type": "code",
   "execution_count": null,
   "id": "b6b79ce8",
   "metadata": {
    "pycharm": {
     "name": "#%%\n"
    }
   },
   "outputs": [],
   "source": [
    "train_dataset = FractalDB60(root=\"C:/DataSets/test/fractaldb60\", \n",
    "                                 transform=transforms.Compose(\n",
    "            [                \n",
    "                transforms.ToTensor()\n",
    "            ]),download=True)\n",
    "train_dataloader = DataLoader(dataset=train_dataset, batch_size=64)\n",
    "\n",
    "get_mean_and_std(train_dataloader)"
   ]
  },
  {
   "cell_type": "code",
   "execution_count": null,
   "id": "7099527a",
   "metadata": {
    "pycharm": {
     "name": "#%%\n"
    }
   },
   "outputs": [],
   "source": [
    "train_dataset = TinyImageNet(root=\"C:/DataSets/test/tinyimagenet\", \n",
    "                                 transform=transforms.Compose(\n",
    "            [                \n",
    "                transforms.ToTensor()\n",
    "            ]),download=True)\n",
    "train_dataloader = DataLoader(dataset=train_dataset, batch_size=64)\n",
    "\n",
    "get_mean_and_std(train_dataloader)"
   ]
  },
  {
   "cell_type": "code",
   "execution_count": null,
   "outputs": [],
   "source": [
    "train_dataset = SVHN(root=\"C:/DataSets/svhn\", \n",
    "                                 transform=transforms.Compose(\n",
    "            [                \n",
    "                transforms.ToTensor()\n",
    "            ]),download=True)\n",
    "train_dataloader = DataLoader(dataset=train_dataset, batch_size=64)\n",
    "\n",
    "get_mean_and_std(train_dataloader)"
   ],
   "metadata": {
    "collapsed": false,
    "pycharm": {
     "name": "#%%\n"
    }
   }
  },
  {
   "cell_type": "code",
   "execution_count": 6,
   "id": "9de06248",
   "metadata": {
    "pycharm": {
     "name": "#%%\n"
    }
   },
   "outputs": [
    {
     "name": "stdout",
     "output_type": "stream",
     "text": [
      "C:/DataSets/cub2002011\n"
     ]
    },
    {
     "data": {
      "text/plain": "(tensor([0.4776, 0.4798, 0.4124]), tensor([0.2138, 0.2093, 0.2410]))"
     },
     "execution_count": 6,
     "metadata": {},
     "output_type": "execute_result"
    }
   ],
   "source": [
    "train_dataset = CUB2002011(root=\"C:/DataSets/cub2002011\",\n",
    "                                 transform=transforms.Compose(\n",
    "            [\n",
    "                transforms.Resize(48),\n",
    "                transforms.CenterCrop(32),\n",
    "                transforms.ToTensor()\n",
    "            ]),download=True)\n",
    "train_dataloader = DataLoader(dataset=train_dataset, batch_size=64)\n",
    "\n",
    "get_mean_and_std(train_dataloader)"
   ]
  },
  {
   "cell_type": "code",
   "execution_count": null,
   "id": "ac485895",
   "metadata": {
    "pycharm": {
     "name": "#%%\n"
    }
   },
   "outputs": [],
   "source": [
    "!pip install scipy"
   ]
  },
  {
   "cell_type": "code",
   "execution_count": null,
   "id": "499b2856",
   "metadata": {
    "pycharm": {
     "name": "#%%\n"
    }
   },
   "outputs": [],
   "source": []
  }
 ],
 "metadata": {
  "kernelspec": {
   "display_name": "Python 3 (ipykernel)",
   "language": "python",
   "name": "python3"
  },
  "language_info": {
   "codemirror_mode": {
    "name": "ipython",
    "version": 3
   },
   "file_extension": ".py",
   "mimetype": "text/x-python",
   "name": "python",
   "nbconvert_exporter": "python",
   "pygments_lexer": "ipython3",
   "version": "3.9.2"
  }
 },
 "nbformat": 4,
 "nbformat_minor": 5
}