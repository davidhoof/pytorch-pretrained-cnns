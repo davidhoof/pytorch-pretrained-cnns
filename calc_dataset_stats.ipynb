{
 "cells": [
  {
   "cell_type": "code",
   "execution_count": null,
   "id": "5728025b",
   "metadata": {
    "pycharm": {
     "name": "#%%\n"
    }
   },
   "outputs": [],
   "source": [
    "from torchvision.datasets import CIFAR10, CIFAR100, MNIST, KMNIST, FashionMNIST,SVHN\n",
    "from torch.utils.data import DataLoader, SubsetRandomSampler\n",
    "from data import GroceryStore,HistAerial,FractalDB60, TinyImageNet, Flowers\n",
    "import numpy as np\n",
    "from torchvision import transforms\n",
    "import matplotlib.pyplot as plt\n",
    "import torch\n",
    "import scipy"
   ]
  },
  {
   "cell_type": "code",
   "execution_count": null,
   "id": "b5681ae7",
   "metadata": {
    "pycharm": {
     "name": "#%%\n"
    }
   },
   "outputs": [],
   "source": [
    "d = KMNIST(root=\"/data/datasets/kmnist\", train=True).data\n",
    "d = d / 255.\n",
    "d.shape, d.mean(), d.std()"
   ]
  },
  {
   "cell_type": "code",
   "execution_count": null,
   "id": "cef5a784",
   "metadata": {
    "pycharm": {
     "name": "#%%\n"
    }
   },
   "outputs": [],
   "source": [
    "d = MNIST(root=\"/data/datasets/mnist\", train=True).data\n",
    "d = d / 255.\n",
    "d.shape, d.mean(), d.std()"
   ]
  },
  {
   "cell_type": "code",
   "execution_count": null,
   "id": "a75abfc1",
   "metadata": {
    "pycharm": {
     "name": "#%%\n"
    }
   },
   "outputs": [],
   "source": [
    "d = FashionMNIST(root=\"/data/datasets/fashionmnist\", train=True).data\n",
    "d = d / 255.\n",
    "d.shape, d.mean(), d.std()"
   ]
  },
  {
   "cell_type": "code",
   "execution_count": null,
   "id": "8b78303c",
   "metadata": {
    "pycharm": {
     "name": "#%%\n"
    }
   },
   "outputs": [],
   "source": [
    "d = CIFAR10(root=\"/data/datasets/cifar10\", train=True).data\n",
    "d = d.reshape(-1, 3) / 255.\n",
    "d.shape, d.mean(axis=0), d.std(axis=0)"
   ]
  },
  {
   "cell_type": "code",
   "execution_count": null,
   "id": "2f4de72f",
   "metadata": {
    "pycharm": {
     "name": "#%%\n"
    }
   },
   "outputs": [],
   "source": [
    "d = CIFAR100(root=\"/data/datasets/cifar100\", train=True).data\n",
    "d = d.reshape(-1, 3) / 255.\n",
    "d.shape, d.mean(axis=0), d.std(axis=0)"
   ]
  },
  {
   "cell_type": "code",
   "execution_count": null,
   "id": "b95de1f1",
   "metadata": {
    "pycharm": {
     "name": "#%%\n"
    }
   },
   "outputs": [],
   "source": [
    "def get_mean_and_std(dataloader):\n",
    "    channels_sum, channels_squared_sum, num_batches = 0, 0, 0\n",
    "    for data, _ in dataloader:\n",
    "        # Mean over batch, height and width, but not over the channels\n",
    "        channels_sum += torch.mean(data, dim=[0,2,3])\n",
    "        channels_squared_sum += torch.mean(data**2, dim=[0,2,3])\n",
    "        num_batches += 1\n",
    "    \n",
    "    mean = channels_sum / num_batches\n",
    "\n",
    "    # std = sqrt(E[X^2] - (E[X])^2)\n",
    "    std = (channels_squared_sum / num_batches - mean ** 2) ** 0.5\n",
    "\n",
    "    return mean, std"
   ]
  },
  {
   "cell_type": "code",
   "execution_count": null,
   "id": "b3beb5ce",
   "metadata": {
    "pycharm": {
     "name": "#%%\n"
    }
   },
   "outputs": [],
   "source": [
    "train_dataset = CIFAR10(root='C:/DataSets/cifar10', train=True, \n",
    "                                 transform=transforms.Compose(\n",
    "            [\n",
    "                transforms.Resize(32),                \n",
    "                transforms.ToTensor()\n",
    "            ]),download=True)\n",
    "train_dataloader = DataLoader(dataset=train_dataset, batch_size=64)\n",
    "\n",
    "get_mean_and_std(train_dataloader)"
   ]
  },
  {
   "cell_type": "code",
   "execution_count": null,
   "id": "2b59ab58",
   "metadata": {
    "pycharm": {
     "name": "#%%\n"
    }
   },
   "outputs": [],
   "source": [
    "train_dataset = GroceryStore(root=\"C:/DataSets/grocerystore\",split=\"train\", \n",
    "                                 transform=transforms.Compose(\n",
    "            [\n",
    "                transforms.Resize(48),\n",
    "                transforms.CenterCrop(32),\n",
    "                transforms.ToTensor()\n",
    "            ]),download=True)\n",
    "train_dataloader = DataLoader(dataset=train_dataset, batch_size=64)\n",
    "\n",
    "get_mean_and_std(train_dataloader)"
   ]
  },
  {
   "cell_type": "code",
   "execution_count": null,
   "id": "cd577028",
   "metadata": {
    "pycharm": {
     "name": "#%%\n"
    }
   },
   "outputs": [],
   "source": [
    "train_dataset = HistAerial(root=\"C:/DataSets/histaerial\",dataset_type=\"25x25\", \n",
    "                                 transform=transforms.Compose(\n",
    "            [                \n",
    "                transforms.ToTensor()\n",
    "            ]),download=True)\n",
    "train_dataloader = DataLoader(dataset=train_dataset, batch_size=64)\n",
    "\n",
    "get_mean_and_std(train_dataloader)"
   ]
  },
  {
   "cell_type": "code",
   "execution_count": null,
   "id": "5a3f4a17",
   "metadata": {
    "pycharm": {
     "name": "#%%\n"
    }
   },
   "outputs": [],
   "source": [
    "train_dataset = HistAerial(root=\"C:/DataSets/histaerial\",dataset_type=\"50x50\", \n",
    "                                 transform=transforms.Compose(\n",
    "            [                \n",
    "                transforms.ToTensor()\n",
    "            ]),download=True)\n",
    "train_dataloader = DataLoader(dataset=train_dataset, batch_size=64)\n",
    "\n",
    "get_mean_and_std(train_dataloader)"
   ]
  },
  {
   "cell_type": "code",
   "execution_count": null,
   "id": "28dd2ee4",
   "metadata": {
    "pycharm": {
     "name": "#%%\n"
    }
   },
   "outputs": [],
   "source": [
    "train_dataset = HistAerial(root=\"C:/DataSets/histaerial\",dataset_type=\"100x100\", \n",
    "                                 transform=transforms.Compose(\n",
    "            [                \n",
    "                transforms.ToTensor()\n",
    "            ]),download=True)\n",
    "train_dataloader = DataLoader(dataset=train_dataset, batch_size=64)\n",
    "\n",
    "get_mean_and_std(train_dataloader)"
   ]
  },
  {
   "cell_type": "code",
   "execution_count": null,
   "id": "56b53566",
   "metadata": {
    "pycharm": {
     "name": "#%%\n"
    }
   },
   "outputs": [],
   "source": [
    "train_dataset = FractalDB60(root=\"C:/DataSets/test/fractaldb60\", \n",
    "                                 transform=transforms.Compose(\n",
    "            [                \n",
    "                transforms.ToTensor()\n",
    "            ]),download=True)\n",
    "train_dataloader = DataLoader(dataset=train_dataset, batch_size=64)\n",
    "\n",
    "get_mean_and_std(train_dataloader)"
   ]
  },
  {
   "cell_type": "code",
   "execution_count": null,
   "id": "2014af64",
   "metadata": {
    "pycharm": {
     "name": "#%%\n"
    }
   },
   "outputs": [],
   "source": [
    "train_dataset = TinyImageNet(root=\"C:/DataSets/test/tinyimagenet\", \n",
    "                                 transform=transforms.Compose(\n",
    "            [                \n",
    "                transforms.ToTensor()\n",
    "            ]),download=True)\n",
    "train_dataloader = DataLoader(dataset=train_dataset, batch_size=64)\n",
    "\n",
    "get_mean_and_std(train_dataloader)"
   ]
  },
  {
   "cell_type": "code",
   "execution_count": null,
   "id": "1f68e0c5",
   "metadata": {
    "pycharm": {
     "name": "#%%\n"
    }
   },
   "outputs": [],
   "source": [
    "train_dataset = SVHN(root=\"C:/DataSets/svhn\", \n",
    "                                 transform=transforms.Compose(\n",
    "            [                \n",
    "                transforms.ToTensor()\n",
    "            ]),download=True)\n",
    "train_dataloader = DataLoader(dataset=train_dataset, batch_size=64)\n",
    "\n",
    "get_mean_and_std(train_dataloader)"
   ]
  },
  {
   "cell_type": "code",
   "execution_count": null,
   "id": "9cc3b4b6",
   "metadata": {
    "pycharm": {
     "name": "#%%\n"
    }
   },
   "outputs": [],
   "source": [
    "train_dataset = Flowers(root=\"C:/DataSets/flowers\", \n",
    "                                 transform=transforms.Compose(\n",
    "            [                \n",
    "                transforms.ToTensor()\n",
    "            ]),download=True)\n",
    "train_dataloader = DataLoader(dataset=train_dataset, batch_size=64)\n",
    "\n",
    "get_mean_and_std(train_dataloader)"
   ]
  },
  {
   "cell_type": "code",
   "execution_count": 10,
   "id": "cc5d6f76",
   "metadata": {
    "pycharm": {
     "name": "#%%\n"
    }
   },
   "outputs": [
    {
     "name": "stdout",
     "output_type": "stream",
     "text": [
      "1\n",
      "102\n"
     ]
    },
    {
     "data": {
      "text/plain": [
       "(tensor([0.5948, 0.4397, 0.3666]), tensor([0.2670, 0.2391, 0.2838]))"
      ]
     },
     "execution_count": 10,
     "metadata": {},
     "output_type": "execute_result"
    }
   ],
   "source": [
    "train_dataset = Flowers(root=\"C:/DataSets/flowers\", \n",
    "                                 transform=transforms.Compose(\n",
    "            [       \n",
    "                transforms.Resize(48),\n",
    "                transforms.CenterCrop(32),\n",
    "                transforms.ToTensor()\n",
    "            ]),download=True)\n",
    "train_dataloader = DataLoader(dataset=train_dataset, batch_size=64)\n",
    "\n",
    "get_mean_and_std(train_dataloader)"
   ]
  },
  {
   "cell_type": "code",
   "execution_count": null,
   "id": "2c85bd04",
   "metadata": {
    "pycharm": {
     "name": "#%%\n"
    }
   },
   "outputs": [],
   "source": []
  },
  {
   "cell_type": "code",
   "execution_count": null,
   "outputs": [],
   "source": [],
   "metadata": {
    "collapsed": false,
    "pycharm": {
     "name": "#%%\n"
    }
   }
  },
  {
   "cell_type": "code",
   "execution_count": null,
   "outputs": [],
   "source": [
    "!pip install scipy"
   ],
   "metadata": {
    "collapsed": false,
    "pycharm": {
     "name": "#%%\n"
    }
   }
  },
  {
   "cell_type": "code",
   "execution_count": null,
   "id": "ac485895",
   "metadata": {
    "pycharm": {
     "name": "#%%\n"
    }
   },
   "outputs": [],
   "source": [
    "!pip install scipy"
   ]
  },
  {
   "cell_type": "code",
   "execution_count": null,
   "id": "499b2856",
   "metadata": {
    "pycharm": {
     "name": "#%%\n"
    }
   },
   "outputs": [],
   "source": []
  }
 ],
 "metadata": {
  "kernelspec": {
   "display_name": "Python 3 (ipykernel)",
   "language": "python",
   "name": "python3"
  },
  "language_info": {
   "codemirror_mode": {
    "name": "ipython",
    "version": 3
   },
   "file_extension": ".py",
   "mimetype": "text/x-python",
   "name": "python",
   "nbconvert_exporter": "python",
   "pygments_lexer": "ipython3",
   "version": "3.9.2"
  }
 },
 "nbformat": 4,
 "nbformat_minor": 5
}