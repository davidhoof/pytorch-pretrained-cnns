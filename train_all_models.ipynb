{
 "cells": [
  {
   "cell_type": "code",
   "execution_count": null,
   "id": "797c59b1",
   "metadata": {},
   "outputs": [],
   "source": [
    "import models\n",
    "import data\n",
    "import itertools\n",
    "import multiprocessing as mp\n",
    "import os\n",
    "import numpy as np"
   ]
  },
  {
   "cell_type": "code",
   "execution_count": null,
   "id": "85fa6416",
   "metadata": {
    "scrolled": true
   },
   "outputs": [],
   "source": [
    "models_todo = filter(lambda m: (\"aux\" not in m) and not (\"vgg\" in m and not \"bn\" in m) and (not \"noresidual\" in m) and (\"lenet\" in m), models.all_classifiers.keys())\n",
    "data_todo = ['cifar10', 'cifar100', 'mnist', 'kmnist', 'fashionmnist', 'cinic10']\n",
    "gpus = [0, 1, 2, 3]\n",
    "workers_per_gpu = 2\n",
    "\n",
    "def gpu_worker(gpu, q):\n",
    "    while not q.empty():\n",
    "        (model, dataset) = q.get()\n",
    "        !python train.py --data_dir /data/datasets/ --output_dir .output/ --classifier $model --dataset $dataset --batch_size 256 --gpu_id $gpu --num_workers 8 --scheduler \"Step\" --max_epochs 125 --cudnn_non_deterministic\n",
    "\n",
    "if __name__ == '__main__':\n",
    "    que = mp.Queue()\n",
    "    for model_name in models_todo:\n",
    "        for ds in data_todo:\n",
    "            que.put((model_name, ds))\n",
    "    \n",
    "    processes = []\n",
    "    for gpu in gpus * workers_per_gpu:\n",
    "        p = mp.Process(target=gpu_worker, args=(gpu, que))\n",
    "        p.start()\n",
    "        processes.append(p)"
   ]
  },
  {
   "cell_type": "code",
   "execution_count": null,
   "id": "bc149fe2",
   "metadata": {},
   "outputs": [],
   "source": [
    "for p in processes:\n",
    "    p.kill()"
   ]
  }
 ],
 "metadata": {
  "kernelspec": {
   "display_name": "Python 3 (ipykernel)",
   "language": "python",
   "name": "python3"
  },
  "language_info": {
   "codemirror_mode": {
    "name": "ipython",
    "version": 3
   },
   "file_extension": ".py",
   "mimetype": "text/x-python",
   "name": "python",
   "nbconvert_exporter": "python",
   "pygments_lexer": "ipython3",
   "version": "3.8.12"
  }
 },
 "nbformat": 4,
 "nbformat_minor": 5
}
